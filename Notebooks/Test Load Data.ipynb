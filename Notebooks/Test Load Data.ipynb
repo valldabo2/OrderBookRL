{
 "cells": [
  {
   "cell_type": "code",
   "execution_count": 9,
   "metadata": {},
   "outputs": [
    {
     "name": "stdout",
     "output_type": "stream",
     "text": [
      "The autoreload extension is already loaded. To reload it, use:\n",
      "  %reload_ext autoreload\n"
     ]
    }
   ],
   "source": [
    "%load_ext autoreload\n",
    "%autoreload 2"
   ]
  },
  {
   "cell_type": "code",
   "execution_count": 11,
   "metadata": {
    "collapsed": true
   },
   "outputs": [],
   "source": [
    "from back_test_orderbook import OrderBook\n",
    "\n",
    "path_snapshots = 'data/w_snapshots.log'\n",
    "path_messages = 'data/w_messages.log'\n",
    "\n",
    "ob = OrderBook(path_snapshots)\n",
    "ob.reset_book()"
   ]
  },
  {
   "cell_type": "code",
   "execution_count": 12,
   "metadata": {},
   "outputs": [
    {
     "data": {
      "text/plain": [
       "array([[  3.34720100e+00,   1.11450000e+04,   7.20486328e+00,\n",
       "          1.11449900e+04],\n",
       "       [  1.00000000e-03,   1.11450500e+04,   8.97310000e-01,\n",
       "          1.11440400e+04],\n",
       "       [  1.27900000e-02,   1.11451200e+04,   2.00000000e-01,\n",
       "          1.11440000e+04],\n",
       "       [  7.10000000e-03,   1.11453000e+04,   2.69200000e-03,\n",
       "          1.11438900e+04],\n",
       "       [  9.00000000e-03,   1.11455000e+04,   1.25221000e+00,\n",
       "          1.11430000e+04]])"
      ]
     },
     "execution_count": 12,
     "metadata": {},
     "output_type": "execute_result"
    }
   ],
   "source": [
    "ob.get_state(levels=5)"
   ]
  },
  {
   "cell_type": "code",
   "execution_count": 13,
   "metadata": {
    "collapsed": true
   },
   "outputs": [],
   "source": [
    "from utils import messages"
   ]
  },
  {
   "cell_type": "code",
   "execution_count": 14,
   "metadata": {
    "collapsed": true
   },
   "outputs": [],
   "source": [
    "import pandas as pd"
   ]
  },
  {
   "cell_type": "code",
   "execution_count": 15,
   "metadata": {
    "collapsed": true
   },
   "outputs": [],
   "source": [
    "messages_ = messages(path_messages)\n",
    "df = pd.DataFrame.from_records(messages_)"
   ]
  },
  {
   "cell_type": "code",
   "execution_count": 16,
   "metadata": {},
   "outputs": [
    {
     "data": {
      "text/html": [
       "<div>\n",
       "<style>\n",
       "    .dataframe thead tr:only-child th {\n",
       "        text-align: right;\n",
       "    }\n",
       "\n",
       "    .dataframe thead th {\n",
       "        text-align: left;\n",
       "    }\n",
       "\n",
       "    .dataframe tbody tr th {\n",
       "        vertical-align: top;\n",
       "    }\n",
       "</style>\n",
       "<table border=\"1\" class=\"dataframe\">\n",
       "  <thead>\n",
       "    <tr style=\"text-align: right;\">\n",
       "      <th></th>\n",
       "      <th>client_oid</th>\n",
       "      <th>funds</th>\n",
       "      <th>order_id</th>\n",
       "      <th>order_type</th>\n",
       "      <th>price</th>\n",
       "      <th>product_id</th>\n",
       "      <th>reason</th>\n",
       "      <th>remaining_size</th>\n",
       "      <th>sequence</th>\n",
       "      <th>side</th>\n",
       "      <th>size</th>\n",
       "      <th>time</th>\n",
       "      <th>type</th>\n",
       "    </tr>\n",
       "  </thead>\n",
       "  <tbody>\n",
       "    <tr>\n",
       "      <th>0</th>\n",
       "      <td>NaN</td>\n",
       "      <td>NaN</td>\n",
       "      <td>edb694e8-6202-470c-86f1-757a2d75527d</td>\n",
       "      <td>limit</td>\n",
       "      <td>11192.24000000</td>\n",
       "      <td>BTC-USD</td>\n",
       "      <td>NaN</td>\n",
       "      <td>NaN</td>\n",
       "      <td>5288581058</td>\n",
       "      <td>sell</td>\n",
       "      <td>5.30000000</td>\n",
       "      <td>2018-03-04T14:33:30.315000Z</td>\n",
       "      <td>received</td>\n",
       "    </tr>\n",
       "    <tr>\n",
       "      <th>1</th>\n",
       "      <td>NaN</td>\n",
       "      <td>NaN</td>\n",
       "      <td>edb694e8-6202-470c-86f1-757a2d75527d</td>\n",
       "      <td>NaN</td>\n",
       "      <td>11192.24000000</td>\n",
       "      <td>BTC-USD</td>\n",
       "      <td>NaN</td>\n",
       "      <td>5.30000000</td>\n",
       "      <td>5288581059</td>\n",
       "      <td>sell</td>\n",
       "      <td>NaN</td>\n",
       "      <td>2018-03-04T14:33:30.315000Z</td>\n",
       "      <td>open</td>\n",
       "    </tr>\n",
       "    <tr>\n",
       "      <th>2</th>\n",
       "      <td>NaN</td>\n",
       "      <td>NaN</td>\n",
       "      <td>c897cc7e-9d24-4ba2-968d-09159393f954</td>\n",
       "      <td>NaN</td>\n",
       "      <td>11218.71000000</td>\n",
       "      <td>BTC-USD</td>\n",
       "      <td>canceled</td>\n",
       "      <td>0.10000000</td>\n",
       "      <td>5288581060</td>\n",
       "      <td>sell</td>\n",
       "      <td>NaN</td>\n",
       "      <td>2018-03-04T14:33:30.337000Z</td>\n",
       "      <td>done</td>\n",
       "    </tr>\n",
       "    <tr>\n",
       "      <th>3</th>\n",
       "      <td>2a6d6184-262b-47f4-a85c-ac9ae45ac3e4</td>\n",
       "      <td>NaN</td>\n",
       "      <td>ee37ca8d-75e6-42b4-b456-c37b69ffaa86</td>\n",
       "      <td>limit</td>\n",
       "      <td>11241.16000000</td>\n",
       "      <td>BTC-USD</td>\n",
       "      <td>NaN</td>\n",
       "      <td>NaN</td>\n",
       "      <td>5288581061</td>\n",
       "      <td>sell</td>\n",
       "      <td>0.10000000</td>\n",
       "      <td>2018-03-04T14:33:30.345000Z</td>\n",
       "      <td>received</td>\n",
       "    </tr>\n",
       "    <tr>\n",
       "      <th>4</th>\n",
       "      <td>NaN</td>\n",
       "      <td>NaN</td>\n",
       "      <td>ee37ca8d-75e6-42b4-b456-c37b69ffaa86</td>\n",
       "      <td>NaN</td>\n",
       "      <td>11241.16000000</td>\n",
       "      <td>BTC-USD</td>\n",
       "      <td>NaN</td>\n",
       "      <td>0.10000000</td>\n",
       "      <td>5288581062</td>\n",
       "      <td>sell</td>\n",
       "      <td>NaN</td>\n",
       "      <td>2018-03-04T14:33:30.345000Z</td>\n",
       "      <td>open</td>\n",
       "    </tr>\n",
       "  </tbody>\n",
       "</table>\n",
       "</div>"
      ],
      "text/plain": [
       "                             client_oid funds  \\\n",
       "0                                   NaN   NaN   \n",
       "1                                   NaN   NaN   \n",
       "2                                   NaN   NaN   \n",
       "3  2a6d6184-262b-47f4-a85c-ac9ae45ac3e4   NaN   \n",
       "4                                   NaN   NaN   \n",
       "\n",
       "                               order_id order_type           price product_id  \\\n",
       "0  edb694e8-6202-470c-86f1-757a2d75527d      limit  11192.24000000    BTC-USD   \n",
       "1  edb694e8-6202-470c-86f1-757a2d75527d        NaN  11192.24000000    BTC-USD   \n",
       "2  c897cc7e-9d24-4ba2-968d-09159393f954        NaN  11218.71000000    BTC-USD   \n",
       "3  ee37ca8d-75e6-42b4-b456-c37b69ffaa86      limit  11241.16000000    BTC-USD   \n",
       "4  ee37ca8d-75e6-42b4-b456-c37b69ffaa86        NaN  11241.16000000    BTC-USD   \n",
       "\n",
       "     reason remaining_size    sequence  side        size  \\\n",
       "0       NaN            NaN  5288581058  sell  5.30000000   \n",
       "1       NaN     5.30000000  5288581059  sell         NaN   \n",
       "2  canceled     0.10000000  5288581060  sell         NaN   \n",
       "3       NaN            NaN  5288581061  sell  0.10000000   \n",
       "4       NaN     0.10000000  5288581062  sell         NaN   \n",
       "\n",
       "                          time      type  \n",
       "0  2018-03-04T14:33:30.315000Z  received  \n",
       "1  2018-03-04T14:33:30.315000Z      open  \n",
       "2  2018-03-04T14:33:30.337000Z      done  \n",
       "3  2018-03-04T14:33:30.345000Z  received  \n",
       "4  2018-03-04T14:33:30.345000Z      open  "
      ]
     },
     "execution_count": 16,
     "metadata": {},
     "output_type": "execute_result"
    }
   ],
   "source": [
    "df.head()"
   ]
  },
  {
   "cell_type": "code",
   "execution_count": 17,
   "metadata": {
    "collapsed": true
   },
   "outputs": [],
   "source": [
    "df.index = pd.to_datetime(df.time)"
   ]
  },
  {
   "cell_type": "code",
   "execution_count": null,
   "metadata": {
    "collapsed": true
   },
   "outputs": [],
   "source": []
  }
 ],
 "metadata": {
  "kernelspec": {
   "display_name": "Python 3",
   "language": "python",
   "name": "python3"
  },
  "language_info": {
   "codemirror_mode": {
    "name": "ipython",
    "version": 3
   },
   "file_extension": ".py",
   "mimetype": "text/x-python",
   "name": "python",
   "nbconvert_exporter": "python",
   "pygments_lexer": "ipython3",
   "version": "3.6.4"
  }
 },
 "nbformat": 4,
 "nbformat_minor": 2
}
