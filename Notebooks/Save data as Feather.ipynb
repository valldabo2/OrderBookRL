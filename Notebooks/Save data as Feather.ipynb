{
 "cells": [
  {
   "cell_type": "code",
   "execution_count": 1,
   "metadata": {},
   "outputs": [
    {
     "name": "stdout",
     "output_type": "stream",
     "text": [
      "/home/olle/Documents/OrderBookRL\n"
     ]
    }
   ],
   "source": [
    "%cd .."
   ]
  },
  {
   "cell_type": "code",
   "execution_count": 2,
   "metadata": {},
   "outputs": [],
   "source": [
    "%load_ext line_profiler"
   ]
  },
  {
   "cell_type": "code",
   "execution_count": 3,
   "metadata": {},
   "outputs": [],
   "source": [
    "%load_ext cython"
   ]
  },
  {
   "cell_type": "code",
   "execution_count": 4,
   "metadata": {},
   "outputs": [],
   "source": [
    "import ujson\n",
    "import pickle\n",
    "import os\n",
    "import math\n",
    "import numpy as np\n",
    "import pandas as pd\n",
    "import pickle\n",
    "import feather"
   ]
  },
  {
   "cell_type": "code",
   "execution_count": 5,
   "metadata": {},
   "outputs": [
    {
     "name": "stdout",
     "output_type": "stream",
     "text": [
      "5486159990\n",
      "5486593951\n",
      "5487047820\n",
      "5487521543\n",
      "5487964732\n",
      "5488346034\n",
      "5488728583\n",
      "5489091550\n",
      "5489439697\n",
      "5489848136\n",
      "5490234651\n",
      "5490586963\n",
      "5490952864\n",
      "5491359778\n",
      "5491790864\n"
     ]
    }
   ],
   "source": [
    "import ujson\n",
    "import pickle\n",
    "import os\n",
    "import msgpack\n",
    "import math\n",
    "\n",
    "files = os.listdir('data/json/')\n",
    "snap_files = sorted([filename for filename in files if 'snaps' in filename])\n",
    "    \n",
    "for snapfile in snap_files:\n",
    "    with open('data/json/' + snapfile , 'r') as f:\n",
    "        snaps = f.readlines()\n",
    "        for snap in snaps:\n",
    "            snap = ujson.loads(snap)\n",
    "            seq = snap['sequence']\n",
    "            print(seq)\n",
    "            with open('data/snap_json/snap_' + str(seq) + '.json', 'w') as snapf:\n",
    "                ujson.dump(snap, snapf)"
   ]
  },
  {
   "cell_type": "code",
   "execution_count": 6,
   "metadata": {},
   "outputs": [
    {
     "name": "stdout",
     "output_type": "stream",
     "text": [
      "0\n",
      "1\n",
      "2\n",
      "3\n",
      "4\n",
      "5\n"
     ]
    }
   ],
   "source": [
    "files = os.listdir('data/json/')\n",
    "mess_files = sorted([filename for filename in files if 'mess' in filename])\n",
    "\n",
    "\n",
    "keys = set(['order_type', 'reason','sequence','side','size','type', 'price', 'funds', 'order_id', 'time'])\n",
    "cat_cols = ['order_type', 'reason', 'side', 'type']\n",
    "price_tick = 0.01\n",
    "price_dec = int(np.log10(1/price_tick))\n",
    "\n",
    "#mess_files = mess_files[0:2]\n",
    "for k, messfile in enumerate(mess_files):\n",
    "    \n",
    "    print(k)\n",
    "    messages = []\n",
    "    with open('data/json/' + messfile , 'r') as f:\n",
    "        mess = f.readlines()\n",
    "        for m in mess:\n",
    "            ms = ujson.loads(m)\n",
    "            ms = {k:v for k,v in ms.items() if k in keys}\n",
    "            messages.append(ms)\n",
    "    \n",
    "    df = pd.DataFrame(messages)\n",
    "    \n",
    "    df['funds'] = df['funds'].astype(float)\n",
    "    df['price'] = df['price'].astype(float).round(price_dec)\n",
    "    df['size'] = df['size'].astype(float)\n",
    "    df.replace('sell', 1, inplace=True)\n",
    "    df.replace('buy', 0, inplace=True)\n",
    "    df.side = df.side.fillna(-1)\n",
    "    df.side = df.side.astype(int)\n",
    "    df['trader_id'] = -1\n",
    "    #df.time = pd.to_datetime(df.time)\n",
    "    df.loc[df['size'].isnull(), 'size'] = -1\n",
    "    feather.write_dataframe(df, 'data/feather/' + str(k) + '.feather')"
   ]
  },
  {
   "cell_type": "code",
   "execution_count": 7,
   "metadata": {},
   "outputs": [
    {
     "data": {
      "text/html": [
       "<div>\n",
       "<style scoped>\n",
       "    .dataframe tbody tr th:only-of-type {\n",
       "        vertical-align: middle;\n",
       "    }\n",
       "\n",
       "    .dataframe tbody tr th {\n",
       "        vertical-align: top;\n",
       "    }\n",
       "\n",
       "    .dataframe thead th {\n",
       "        text-align: right;\n",
       "    }\n",
       "</style>\n",
       "<table border=\"1\" class=\"dataframe\">\n",
       "  <thead>\n",
       "    <tr style=\"text-align: right;\">\n",
       "      <th></th>\n",
       "      <th>funds</th>\n",
       "      <th>order_id</th>\n",
       "      <th>order_type</th>\n",
       "      <th>price</th>\n",
       "      <th>reason</th>\n",
       "      <th>sequence</th>\n",
       "      <th>side</th>\n",
       "      <th>size</th>\n",
       "      <th>time</th>\n",
       "      <th>type</th>\n",
       "      <th>trader_id</th>\n",
       "    </tr>\n",
       "  </thead>\n",
       "  <tbody>\n",
       "    <tr>\n",
       "      <th>0</th>\n",
       "      <td>NaN</td>\n",
       "      <td>cdd8dcb6-015d-4cc2-b684-a8a9e21db517</td>\n",
       "      <td>NaN</td>\n",
       "      <td>8930.02</td>\n",
       "      <td>canceled</td>\n",
       "      <td>5491060906</td>\n",
       "      <td>0</td>\n",
       "      <td>-1.0</td>\n",
       "      <td>2018-03-24T21:00:02.567000Z</td>\n",
       "      <td>done</td>\n",
       "      <td>-1</td>\n",
       "    </tr>\n",
       "    <tr>\n",
       "      <th>1</th>\n",
       "      <td>NaN</td>\n",
       "      <td>87c33f1b-b88b-40ca-9249-e3900f0ab9d5</td>\n",
       "      <td>limit</td>\n",
       "      <td>8930.03</td>\n",
       "      <td>NaN</td>\n",
       "      <td>5491060907</td>\n",
       "      <td>0</td>\n",
       "      <td>0.9</td>\n",
       "      <td>2018-03-24T21:00:02.582000Z</td>\n",
       "      <td>received</td>\n",
       "      <td>-1</td>\n",
       "    </tr>\n",
       "    <tr>\n",
       "      <th>2</th>\n",
       "      <td>NaN</td>\n",
       "      <td>87c33f1b-b88b-40ca-9249-e3900f0ab9d5</td>\n",
       "      <td>NaN</td>\n",
       "      <td>8930.03</td>\n",
       "      <td>NaN</td>\n",
       "      <td>5491060908</td>\n",
       "      <td>0</td>\n",
       "      <td>-1.0</td>\n",
       "      <td>2018-03-24T21:00:02.582000Z</td>\n",
       "      <td>open</td>\n",
       "      <td>-1</td>\n",
       "    </tr>\n",
       "    <tr>\n",
       "      <th>3</th>\n",
       "      <td>NaN</td>\n",
       "      <td>c618aba3-73f8-4d5c-8f4f-97b23e52ee07</td>\n",
       "      <td>NaN</td>\n",
       "      <td>8953.29</td>\n",
       "      <td>canceled</td>\n",
       "      <td>5491060909</td>\n",
       "      <td>1</td>\n",
       "      <td>-1.0</td>\n",
       "      <td>2018-03-24T21:00:02.582000Z</td>\n",
       "      <td>done</td>\n",
       "      <td>-1</td>\n",
       "    </tr>\n",
       "    <tr>\n",
       "      <th>4</th>\n",
       "      <td>NaN</td>\n",
       "      <td>87c33f1b-b88b-40ca-9249-e3900f0ab9d5</td>\n",
       "      <td>NaN</td>\n",
       "      <td>8930.03</td>\n",
       "      <td>canceled</td>\n",
       "      <td>5491060910</td>\n",
       "      <td>0</td>\n",
       "      <td>-1.0</td>\n",
       "      <td>2018-03-24T21:00:02.588000Z</td>\n",
       "      <td>done</td>\n",
       "      <td>-1</td>\n",
       "    </tr>\n",
       "  </tbody>\n",
       "</table>\n",
       "</div>"
      ],
      "text/plain": [
       "   funds                              order_id order_type    price    reason  \\\n",
       "0    NaN  cdd8dcb6-015d-4cc2-b684-a8a9e21db517        NaN  8930.02  canceled   \n",
       "1    NaN  87c33f1b-b88b-40ca-9249-e3900f0ab9d5      limit  8930.03       NaN   \n",
       "2    NaN  87c33f1b-b88b-40ca-9249-e3900f0ab9d5        NaN  8930.03       NaN   \n",
       "3    NaN  c618aba3-73f8-4d5c-8f4f-97b23e52ee07        NaN  8953.29  canceled   \n",
       "4    NaN  87c33f1b-b88b-40ca-9249-e3900f0ab9d5        NaN  8930.03  canceled   \n",
       "\n",
       "     sequence  side  size                         time      type  trader_id  \n",
       "0  5491060906     0  -1.0  2018-03-24T21:00:02.567000Z      done         -1  \n",
       "1  5491060907     0   0.9  2018-03-24T21:00:02.582000Z  received         -1  \n",
       "2  5491060908     0  -1.0  2018-03-24T21:00:02.582000Z      open         -1  \n",
       "3  5491060909     1  -1.0  2018-03-24T21:00:02.582000Z      done         -1  \n",
       "4  5491060910     0  -1.0  2018-03-24T21:00:02.588000Z      done         -1  "
      ]
     },
     "execution_count": 7,
     "metadata": {},
     "output_type": "execute_result"
    }
   ],
   "source": [
    "df.head()"
   ]
  }
 ],
 "metadata": {
  "kernelspec": {
   "display_name": "Python 3",
   "language": "python",
   "name": "python3"
  },
  "language_info": {
   "codemirror_mode": {
    "name": "ipython",
    "version": 3
   },
   "file_extension": ".py",
   "mimetype": "text/x-python",
   "name": "python",
   "nbconvert_exporter": "python",
   "pygments_lexer": "ipython3",
   "version": "3.6.6"
  }
 },
 "nbformat": 4,
 "nbformat_minor": 2
}
