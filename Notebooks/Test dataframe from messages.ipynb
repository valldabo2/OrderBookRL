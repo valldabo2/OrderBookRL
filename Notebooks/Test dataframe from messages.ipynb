{
 "cells": [
  {
   "cell_type": "code",
   "execution_count": 1,
   "metadata": {},
   "outputs": [
    {
     "name": "stdout",
     "output_type": "stream",
     "text": [
      "<class 'pandas.core.frame.DataFrame'>\n",
      "RangeIndex: 286 entries, 0 to 285\n",
      "Data columns (total 13 columns):\n",
      "client_oid        75 non-null object\n",
      "funds             1 non-null object\n",
      "order_id          286 non-null object\n",
      "order_type        94 non-null object\n",
      "price             282 non-null object\n",
      "product_id        286 non-null object\n",
      "reason            100 non-null object\n",
      "remaining_size    192 non-null object\n",
      "sequence          286 non-null int64\n",
      "side              286 non-null object\n",
      "size              94 non-null object\n",
      "time              286 non-null object\n",
      "type              286 non-null object\n",
      "dtypes: int64(1), object(12)\n",
      "memory usage: 29.1+ KB\n"
     ]
    }
   ],
   "source": [
    "import pandas as pd\n",
    "from utils import messages\n",
    "\n",
    "messages_ = messages('data/w_messages.log')\n",
    "df = pd.DataFrame.from_records(messages_)\n",
    "df.info()"
   ]
  },
  {
   "cell_type": "code",
   "execution_count": null,
   "metadata": {
    "collapsed": true
   },
   "outputs": [],
   "source": []
  },
  {
   "cell_type": "code",
   "execution_count": null,
   "metadata": {
    "collapsed": true
   },
   "outputs": [],
   "source": []
  }
 ],
 "metadata": {
  "kernelspec": {
   "display_name": "Python 3",
   "language": "python",
   "name": "python3"
  },
  "language_info": {
   "codemirror_mode": {
    "name": "ipython",
    "version": 3
   },
   "file_extension": ".py",
   "mimetype": "text/x-python",
   "name": "python",
   "nbconvert_exporter": "python",
   "pygments_lexer": "ipython3",
   "version": "3.5.2"
  }
 },
 "nbformat": 4,
 "nbformat_minor": 2
}
