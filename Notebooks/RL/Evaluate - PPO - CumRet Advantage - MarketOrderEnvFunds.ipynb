{
 "cells": [
  {
   "cell_type": "code",
   "execution_count": 1,
   "metadata": {},
   "outputs": [
    {
     "name": "stdout",
     "output_type": "stream",
     "text": [
      "/media/olle/DATA/Projects/orderbookrl\n"
     ]
    }
   ],
   "source": [
    "%cd ../../\n",
    "%load_ext autoreload\n",
    "%autoreload 2"
   ]
  },
  {
   "cell_type": "code",
   "execution_count": 2,
   "metadata": {
    "scrolled": false
   },
   "outputs": [],
   "source": [
    "from orderbookrl.evaluate.collect_data import load_env_agent, run_through_all_data\n",
    "import pandas as pd\n",
    "%matplotlib inline"
   ]
  },
  {
   "cell_type": "code",
   "execution_count": null,
   "metadata": {
    "scrolled": true
   },
   "outputs": [
    {
     "name": "stderr",
     "output_type": "stream",
     "text": [
      "Process STDOUT and STDERR is being redirected to /tmp/raylogs/.\n",
      "Waiting for redis server at 127.0.0.1:44569 to respond...\n"
     ]
    },
    {
     "name": "stdout",
     "output_type": "stream",
     "text": [
      "Using custom preprocessor mv\n"
     ]
    },
    {
     "name": "stderr",
     "output_type": "stream",
     "text": [
      "Waiting for redis server at 127.0.0.1:52825 to respond...\n",
      "Starting local scheduler with the following resources: {'CPU': 8, 'GPU': 1}.\n",
      "\n",
      "======================================================================\n",
      "View the web UI at http://localhost:8889/notebooks/ray_ui99304.ipynb?token=6ca15a7cf8f13c2daabe8bce9fd7cf76ef13d2547e670f36\n",
      "======================================================================\n",
      "\n"
     ]
    },
    {
     "name": "stdout",
     "output_type": "stream",
     "text": [
      "Created LogSyncer for /home/olle/ray_results/2018-09-03_21-14-57ufr4axzd -> None\n",
      "Using custom preprocessor mv\n"
     ]
    },
    {
     "name": "stderr",
     "output_type": "stream",
     "text": [
      "/home/olle/miniconda3/envs/orderbookmdp/lib/python3.6/site-packages/pandas/io/feather_format.py:112: FutureWarning:\n",
      "\n",
      "`nthreads` argument is deprecated, pass `use_threads` instead\n",
      "\n",
      "/home/olle/miniconda3/envs/orderbookmdp/lib/python3.6/site-packages/pandas/io/feather_format.py:112: FutureWarning:\n",
      "\n",
      "`nthreads` argument is deprecated, pass `use_threads` instead\n",
      "\n"
     ]
    },
    {
     "name": "stdout",
     "output_type": "stream",
     "text": [
      "2018-04-04T17:29:01.296000Z 0.8733536819207135\n",
      "2018-04-04T20:18:01.320000Z 0.7819473218299058\n",
      "2018-04-04T23:33:22.103000Z 0.6560340832020379\n",
      "2018-04-05T01:47:21.887000Z 0.5834267033341651\n",
      "2018-04-05T04:03:06.718000Z 0.5822612088708796\n",
      "2018-04-05T06:57:26.524000Z 0.5412520080543125\n",
      "2018-04-05T09:02:20.546000Z 0.5334562729276641\n",
      "2018-04-05T12:18:06.871000Z 0.4689099242868097\n",
      "2018-04-05T14:17:07.433000Z 0.44811471023781696\n",
      "2018-04-05T15:58:06.528000Z 0.40686334236438276\n",
      "2018-04-05T17:42:54.399000Z 0.37518101565183914\n",
      "2018-04-05T19:28:12.853000Z 0.3378171545645032\n",
      "2018-04-05T22:33:31.865000Z 0.3124734248849108\n",
      "2018-04-06T01:48:26.296000Z 0.29280861296127025\n",
      "2018-04-06T05:33:37.247000Z 0.2806351698134763\n",
      "2018-04-06T08:58:52.350000Z 0.2600203594927676\n",
      "2018-04-06T12:59:54.806000Z 0.24595411649108204\n",
      "2018-04-06T17:25:06.363000Z 0.2307514211763326\n",
      "2018-04-06T23:10:18.184000Z 0.22295454882364366\n",
      "2018-04-07T05:07:17.008000Z 0.22913491646467937\n",
      "2018-04-07T11:32:56.030000Z 0.22225671046158363\n",
      "2018-04-07T18:12:16.458000Z 0.2236223155130775\n",
      "2018-04-08T03:13:26.489000Z 0.21582049807791678\n",
      "2018-04-08T12:02:51.926000Z 0.21436754458652932\n",
      "2018-04-08T22:44:19.707000Z 0.20581138119302905\n",
      "2018-04-09T04:31:55.438000Z 0.20474371526430463\n"
     ]
    }
   ],
   "source": [
    "agent_id = 'PPO'\n",
    "path = 'logs/marketorderenvfunds/ppo/PPOADV_MarketOrderEnvFunds-v0_0_2018-09-03_19-48-52k7iu9uxw/'\n",
    "checkpoint = 90\n",
    "data_dir = '/media/olle/DATA/Projects/orderbookrl/data/test/'\n",
    "env, agent = load_env_agent(agent_id, path, checkpoint, data_path=data_dir)\n",
    "result, trades, states, actions, rewards, quotes = run_through_all_data(env, agent)"
   ]
  },
  {
   "cell_type": "code",
   "execution_count": null,
   "metadata": {},
   "outputs": [],
   "source": [
    "actions.columns = ['BUY=0_SELL=1_HOLD=2']\n",
    "result.join(actions).plot(subplots=True, figsize=(15,10));"
   ]
  },
  {
   "cell_type": "code",
   "execution_count": null,
   "metadata": {},
   "outputs": [],
   "source": [
    "n_cols = 3\n",
    "layout = (n_cols, 1+ int( (1+states.shape[1])/n_cols))\n",
    "states.columns = ['ofi', 'vol_mb', 'macd', 'mid_std', 'possession']\n",
    "states.plot(subplots=True, figsize=(15,10), layout=layout);"
   ]
  },
  {
   "cell_type": "code",
   "execution_count": null,
   "metadata": {},
   "outputs": [],
   "source": [
    "mid = (quotes['ask'] + quotes['bid'])/2\n",
    "mid.name = 'mid'\n",
    "temp = mid.to_frame().join(result.possession)\n",
    "temp = temp.join(result.capital/result.capital[0])\n",
    "temp.plot(subplots=True, figsize=(10,10));"
   ]
  },
  {
   "cell_type": "code",
   "execution_count": null,
   "metadata": {},
   "outputs": [],
   "source": [
    "port_returns = result.capital.pct_change().iloc[1:]\n",
    "port_cum_ret = (1+ port_returns).cumprod()\n",
    "port_cum_ret.name = 'portfolio'\n",
    "cum_returns = (1 + mid.pct_change().iloc[1:]).cumprod()\n",
    "cum_returns.name = 'bitcoin'\n",
    "temp = pd.concat([port_cum_ret, cum_returns], axis=1)\n",
    "temp.plot(figsize=(10,10));"
   ]
  },
  {
   "cell_type": "code",
   "execution_count": null,
   "metadata": {},
   "outputs": [],
   "source": [
    "temp = mid.to_frame().join(result.possession)\n",
    "temp.plot(secondary_y='possession', figsize=(15, 5));"
   ]
  },
  {
   "cell_type": "code",
   "execution_count": null,
   "metadata": {},
   "outputs": [],
   "source": [
    "port_returns.rolling(100).mean().nlargest(n=25)"
   ]
  },
  {
   "cell_type": "code",
   "execution_count": null,
   "metadata": {},
   "outputs": [],
   "source": [
    "temp['2018-05-13 09'].plot(subplots=True, figsize=(10,10));"
   ]
  },
  {
   "cell_type": "code",
   "execution_count": null,
   "metadata": {},
   "outputs": [],
   "source": [
    "actions.head()"
   ]
  },
  {
   "cell_type": "code",
   "execution_count": null,
   "metadata": {},
   "outputs": [],
   "source": [
    "states.head()"
   ]
  },
  {
   "cell_type": "code",
   "execution_count": null,
   "metadata": {},
   "outputs": [],
   "source": [
    "states.shape"
   ]
  },
  {
   "cell_type": "code",
   "execution_count": null,
   "metadata": {},
   "outputs": [],
   "source": [
    "from sklearn import tree\n",
    "import graphviz \n",
    "import numpy as np\n",
    "np.random.seed(1)\n",
    "n = 10000\n",
    "idx = np.random.choice(np.arange(states.shape[0]), n)\n",
    "reg = tree.DecisionTreeClassifier().fit(states.iloc[idx], actions.values[idx].ravel())\n",
    "dot_data = tree.export_graphviz(reg, max_depth=3, out_file=None,\n",
    "                         feature_names=states.columns, class_names=['Buy', 'Sell', 'Hold'],  \n",
    "                         filled=True, rounded=True,  \n",
    "                         special_characters=True)  \n",
    "graphviz.Source(dot_data)  "
   ]
  },
  {
   "cell_type": "code",
   "execution_count": null,
   "metadata": {},
   "outputs": [],
   "source": []
  }
 ],
 "metadata": {
  "kernelspec": {
   "display_name": "Python 3",
   "language": "python",
   "name": "python3"
  },
  "language_info": {
   "codemirror_mode": {
    "name": "ipython",
    "version": 3
   },
   "file_extension": ".py",
   "mimetype": "text/x-python",
   "name": "python",
   "nbconvert_exporter": "python",
   "pygments_lexer": "ipython3",
   "version": "3.6.6"
  }
 },
 "nbformat": 4,
 "nbformat_minor": 2
}
