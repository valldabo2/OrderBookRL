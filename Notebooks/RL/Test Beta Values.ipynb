{
 "cells": [
  {
   "cell_type": "code",
   "execution_count": 3,
   "metadata": {
    "scrolled": false
   },
   "outputs": [
    {
     "data": {
      "application/vnd.jupyter.widget-view+json": {
       "model_id": "8e70c11732e643f4970c510c43f3aa5b",
       "version_major": 2,
       "version_minor": 0
      },
      "text/plain": [
       "VBox(children=(HBox(children=(FloatSlider(value=5.0, description='alpha', max=10.0, min=0.01), FloatSlider(val…"
      ]
     },
     "metadata": {},
     "output_type": "display_data"
    }
   ],
   "source": [
    "from ipywidgets import FloatSlider, HBox, VBox, FloatText\n",
    "from bqplot import Figure, Lines, LinearScale, Axis\n",
    "import numpy as np\n",
    "from scipy.stats import beta\n",
    "\n",
    "alpha = FloatSlider(min=0.01, max=10, description='alpha')\n",
    "beta_ = FloatSlider(min=0.01, max=10, description='beta')\n",
    "\n",
    "alpha_t = FloatText(min=0.01, value=5, description='alpha')\n",
    "beta_t = FloatText(min=0.01, value=0.3, description='beta')\n",
    "\n",
    "alpha.value = alpha_t.value\n",
    "beta_.value = beta_t.value\n",
    "\n",
    "def new_float(change):\n",
    "    if change.owner.description == 'alpha':\n",
    "        alpha.value = alpha_t.value\n",
    "    else:\n",
    "        beta_.value = beta_t.value\n",
    "    \n",
    "alpha_t.observe(new_float)\n",
    "beta_t.observe(new_float)\n",
    "\n",
    "x = np.linspace(0.01,0.99,50)\n",
    "p = beta(alpha.value, beta_.value).pdf(x)\n",
    "y = p/p.sum()\n",
    "\n",
    "def new_val(change):\n",
    "    p = beta(alpha.value, beta_.value).pdf(x)\n",
    "    fig.marks[0].y = p/p.sum()\n",
    "    fig.marks[0].scales['y'].max = fig.marks[0].y.max()\n",
    "    \n",
    "    \n",
    "    if change.owner.description == 'alpha':\n",
    "        alpha_t.value = alpha.value\n",
    "    else:\n",
    "        beta_t.value = beta_.value\n",
    "    \n",
    "alpha.observe(new_val)\n",
    "beta_.observe(new_val)\n",
    "\n",
    "x_sc = LinearScale(min=0, max=1)\n",
    "y_sc = LinearScale(min=0, max=y.max())\n",
    "\n",
    "fig = Figure(marks=[Lines(x=x, y=y, scales={'x':x_sc, 'y':y_sc})],\n",
    "            axes=[Axis(label='x', scale=x_sc), Axis(label='p(x)', scale=y_sc, orientation='vertical')])\n",
    "VBox( [ HBox([alpha, beta_]), HBox([alpha_t, beta_t]), fig])"
   ]
  },
  {
   "cell_type": "code",
   "execution_count": null,
   "metadata": {},
   "outputs": [],
   "source": []
  }
 ],
 "metadata": {
  "kernelspec": {
   "display_name": "Python 3",
   "language": "python",
   "name": "python3"
  },
  "language_info": {
   "codemirror_mode": {
    "name": "ipython",
    "version": 3
   },
   "file_extension": ".py",
   "mimetype": "text/x-python",
   "name": "python",
   "nbconvert_exporter": "python",
   "pygments_lexer": "ipython3",
   "version": "3.6.5"
  }
 },
 "nbformat": 4,
 "nbformat_minor": 2
}
