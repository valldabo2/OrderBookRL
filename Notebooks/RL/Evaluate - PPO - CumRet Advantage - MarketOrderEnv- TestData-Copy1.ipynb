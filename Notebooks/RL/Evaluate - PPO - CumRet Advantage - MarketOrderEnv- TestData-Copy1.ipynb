{
 "cells": [
  {
   "cell_type": "code",
   "execution_count": 1,
   "metadata": {},
   "outputs": [
    {
     "name": "stdout",
     "output_type": "stream",
     "text": [
      "/media/olle/DATA/Projects/orderbookrl\n"
     ]
    }
   ],
   "source": [
    "%cd ../../\n",
    "%load_ext autoreload\n",
    "%autoreload 2"
   ]
  },
  {
   "cell_type": "code",
   "execution_count": 2,
   "metadata": {
    "scrolled": false
   },
   "outputs": [],
   "source": [
    "from orderbookrl.evaluate.collect_data import load_env_agent, run_through_all_data\n",
    "import pandas as pd\n",
    "%matplotlib inline"
   ]
  },
  {
   "cell_type": "code",
   "execution_count": null,
   "metadata": {
    "scrolled": true
   },
   "outputs": [
    {
     "name": "stderr",
     "output_type": "stream",
     "text": [
      "Process STDOUT and STDERR is being redirected to /tmp/raylogs/.\n",
      "Waiting for redis server at 127.0.0.1:35758 to respond...\n"
     ]
    },
    {
     "name": "stdout",
     "output_type": "stream",
     "text": [
      "Using custom preprocessor mv\n"
     ]
    },
    {
     "name": "stderr",
     "output_type": "stream",
     "text": [
      "Waiting for redis server at 127.0.0.1:27896 to respond...\n",
      "Starting local scheduler with the following resources: {'CPU': 8, 'GPU': 1}.\n",
      "\n",
      "======================================================================\n",
      "View the web UI at http://localhost:8889/notebooks/ray_ui90881.ipynb?token=5b95d0951235a905b4d1aa4b87637a2dbe75b45daa26a76e\n",
      "======================================================================\n",
      "\n"
     ]
    },
    {
     "name": "stdout",
     "output_type": "stream",
     "text": [
      "Created LogSyncer for /home/olle/ray_results/2018-09-04_08-18-046ifbo02p -> None\n",
      "Using custom preprocessor mv\n"
     ]
    },
    {
     "name": "stderr",
     "output_type": "stream",
     "text": [
      "/home/olle/miniconda3/envs/orderbookmdp/lib/python3.6/site-packages/pandas/io/feather_format.py:112: FutureWarning:\n",
      "\n",
      "`nthreads` argument is deprecated, pass `use_threads` instead\n",
      "\n",
      "/home/olle/miniconda3/envs/orderbookmdp/lib/python3.6/site-packages/pandas/io/feather_format.py:112: FutureWarning:\n",
      "\n",
      "`nthreads` argument is deprecated, pass `use_threads` instead\n",
      "\n"
     ]
    },
    {
     "name": "stdout",
     "output_type": "stream",
     "text": [
      "2018-04-04T17:44:39.945000Z 1.0105197271229962\n",
      "2018-04-04T20:53:35.204000Z 1.0417504184273332\n",
      "2018-04-05T00:22:07.765000Z 1.0708257598005855\n"
     ]
    }
   ],
   "source": [
    "agent_id = 'PPO'\n",
    "path = 'logs/marketorderenvfunds/ppo/PPOADV_MarketOrderEnv-v0_0_2018-08-27_12-39-581hfllrq_/'\n",
    "checkpoint = 40\n",
    "data_dir = '/media/olle/DATA/Projects/orderbookrl/data/test/'\n",
    "env, agent = load_env_agent(agent_id, path, checkpoint, data_path=data_dir)\n",
    "result, trades, states, actions, rewards, quotes = run_through_all_data(env, agent)"
   ]
  },
  {
   "cell_type": "code",
   "execution_count": null,
   "metadata": {},
   "outputs": [],
   "source": [
    "actions.columns = ['BUY=0_SELL=1_HOLD=2']\n",
    "result.join(actions).plot(subplots=True, figsize=(15,10));"
   ]
  },
  {
   "cell_type": "code",
   "execution_count": null,
   "metadata": {},
   "outputs": [],
   "source": [
    "n_cols = 3\n",
    "layout = (n_cols, 1+ int( (1+states.shape[1])/n_cols))\n",
    "states.columns = ['ofi', 'vol_mb', 'macd', 'mid_std', 'possession']\n",
    "states.plot(subplots=True, figsize=(15,10), layout=layout);"
   ]
  },
  {
   "cell_type": "code",
   "execution_count": null,
   "metadata": {},
   "outputs": [],
   "source": [
    "mid = (quotes['ask'] + quotes['bid'])/2\n",
    "mid.name = 'mid'\n",
    "temp = mid.to_frame().join(result.possession)\n",
    "temp = temp.join(result.capital/result.capital[0])\n",
    "temp.plot(subplots=True, figsize=(10,10));"
   ]
  },
  {
   "cell_type": "code",
   "execution_count": null,
   "metadata": {},
   "outputs": [],
   "source": [
    "port_returns = result.capital.pct_change().iloc[1:]\n",
    "port_cum_ret = (1+ port_returns).cumprod()\n",
    "port_cum_ret.name = 'portfolio'\n",
    "cum_returns = (1 + mid.pct_change().iloc[1:]).cumprod()\n",
    "cum_returns.name = 'bitcoin'\n",
    "temp = pd.concat([port_cum_ret, cum_returns], axis=1)\n",
    "temp.plot(figsize=(10,10));"
   ]
  },
  {
   "cell_type": "code",
   "execution_count": null,
   "metadata": {},
   "outputs": [],
   "source": [
    "temp = mid.to_frame().join(result.possession)\n",
    "temp.plot(secondary_y='possession', figsize=(15, 5));"
   ]
  },
  {
   "cell_type": "code",
   "execution_count": null,
   "metadata": {},
   "outputs": [],
   "source": [
    "port_returns.rolling(100).mean().nlargest(n=25)"
   ]
  },
  {
   "cell_type": "code",
   "execution_count": null,
   "metadata": {},
   "outputs": [],
   "source": [
    "temp['2018-06-02 06'].plot(subplots=True, figsize=(10,10));"
   ]
  },
  {
   "cell_type": "code",
   "execution_count": null,
   "metadata": {},
   "outputs": [],
   "source": [
    "actions.head()"
   ]
  },
  {
   "cell_type": "code",
   "execution_count": null,
   "metadata": {},
   "outputs": [],
   "source": [
    "states.head()"
   ]
  },
  {
   "cell_type": "code",
   "execution_count": null,
   "metadata": {},
   "outputs": [],
   "source": [
    "states.shape"
   ]
  },
  {
   "cell_type": "code",
   "execution_count": null,
   "metadata": {},
   "outputs": [],
   "source": [
    "from sklearn import tree\n",
    "import graphviz \n",
    "import numpy as np\n",
    "np.random.seed(1)\n",
    "n = 10000\n",
    "idx = np.random.choice(np.arange(states.shape[0]), n)\n",
    "reg = tree.DecisionTreeClassifier().fit(states.iloc[idx], actions.values[idx].ravel())\n",
    "dot_data = tree.export_graphviz(reg, max_depth=3, out_file=None,\n",
    "                         feature_names=states.columns, class_names=['Buy', 'Sell', 'Hold'],  \n",
    "                         filled=True, rounded=True,  \n",
    "                         special_characters=True)  \n",
    "graphviz.Source(dot_data)  "
   ]
  },
  {
   "cell_type": "code",
   "execution_count": null,
   "metadata": {},
   "outputs": [],
   "source": []
  }
 ],
 "metadata": {
  "kernelspec": {
   "display_name": "Python 3",
   "language": "python",
   "name": "python3"
  },
  "language_info": {
   "codemirror_mode": {
    "name": "ipython",
    "version": 3
   },
   "file_extension": ".py",
   "mimetype": "text/x-python",
   "name": "python",
   "nbconvert_exporter": "python",
   "pygments_lexer": "ipython3",
   "version": "3.6.6"
  }
 },
 "nbformat": 4,
 "nbformat_minor": 2
}
