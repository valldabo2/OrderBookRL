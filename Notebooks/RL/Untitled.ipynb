{
 "cells": [
  {
   "cell_type": "code",
   "execution_count": 1,
   "metadata": {},
   "outputs": [],
   "source": [
    "import sys\n",
    "\n",
    "sys.path.append('../../')\n",
    "import ray\n",
    "from orderbookrl.utils import get_env\n",
    "from ray.rllib.agents.agent import get_agent_class\n",
    "\n",
    "\n",
    "agent_id = 'PPO'\n",
    "path = '../../logs/marketorderenv/ppo-long-run/PPO_MarketOrderEnv-v0_3_2019-05-22_13-13-5893t1828n/checkpoint_35/'\n",
    "checkpoint = 35"
   ]
  },
  {
   "cell_type": "code",
   "execution_count": 2,
   "metadata": {},
   "outputs": [
    {
     "name": "stdout",
     "output_type": "stream",
     "text": [
      "checkpoint_10\tcheckpoint_205\tcheckpoint_315\r\n",
      "checkpoint_100\tcheckpoint_210\tcheckpoint_320\r\n",
      "checkpoint_105\tcheckpoint_215\tcheckpoint_35\r\n",
      "checkpoint_110\tcheckpoint_220\tcheckpoint_40\r\n",
      "checkpoint_115\tcheckpoint_225\tcheckpoint_45\r\n",
      "checkpoint_120\tcheckpoint_230\tcheckpoint_5\r\n",
      "checkpoint_125\tcheckpoint_235\tcheckpoint_50\r\n",
      "checkpoint_130\tcheckpoint_240\tcheckpoint_55\r\n",
      "checkpoint_135\tcheckpoint_245\tcheckpoint_60\r\n",
      "checkpoint_140\tcheckpoint_25\tcheckpoint_65\r\n",
      "checkpoint_145\tcheckpoint_250\tcheckpoint_70\r\n",
      "checkpoint_15\tcheckpoint_255\tcheckpoint_75\r\n",
      "checkpoint_150\tcheckpoint_260\tcheckpoint_80\r\n",
      "checkpoint_155\tcheckpoint_265\tcheckpoint_85\r\n",
      "checkpoint_160\tcheckpoint_270\tcheckpoint_90\r\n",
      "checkpoint_165\tcheckpoint_275\tcheckpoint_95\r\n",
      "checkpoint_170\tcheckpoint_280\tevents.out.tfevents.1558523813.antegeros\r\n",
      "checkpoint_175\tcheckpoint_285\tlog_syncv_swasf1.log\r\n",
      "checkpoint_180\tcheckpoint_290\tparams.json\r\n",
      "checkpoint_185\tcheckpoint_295\tparams.pkl\r\n",
      "checkpoint_190\tcheckpoint_30\tprogress.csv\r\n",
      "checkpoint_195\tcheckpoint_300\tresult.json\r\n",
      "checkpoint_20\tcheckpoint_305\r\n",
      "checkpoint_200\tcheckpoint_310\r\n"
     ]
    }
   ],
   "source": [
    "!ls ../../logs/marketorderenv/ppo-long-run/PPO_MarketOrderEnv-v0_3_2019-05-22_13-13-5893t1828n/"
   ]
  },
  {
   "cell_type": "code",
   "execution_count": 3,
   "metadata": {},
   "outputs": [],
   "source": [
    "import os\n",
    "import json\n",
    "\n",
    "path = os.path.dirname(os.path.dirname(path)) + '/'\n",
    "\n",
    "params_path = path + 'params.json'\n",
    "result_path = path + 'result.json'\n",
    "\n",
    "with open(params_path) as f:\n",
    "    config = json.load(f)\n",
    "    model_config = config['model']\n",
    "\n",
    "with open(result_path) as f:\n",
    "    result_ = json.loads(f.readline())\n",
    "    env_id = result_['config']['env']\n",
    "    env_config = result_['config']['env_config']"
   ]
  },
  {
   "cell_type": "code",
   "execution_count": 4,
   "metadata": {},
   "outputs": [],
   "source": [
    "from orderbookrl.utils import get_env\n",
    "\n",
    "env = get_env(env_id, env_config)"
   ]
  },
  {
   "cell_type": "code",
   "execution_count": 5,
   "metadata": {},
   "outputs": [],
   "source": [
    "from ray.rllib.models import ModelCatalog\n",
    "\n",
    "preprocessor = ModelCatalog.get_preprocessor(env, model_config)"
   ]
  },
  {
   "cell_type": "code",
   "execution_count": 6,
   "metadata": {},
   "outputs": [
    {
     "data": {
      "text/plain": [
       "orderbookrl.preprocessing.phi.MarketVariables"
      ]
     },
     "execution_count": 6,
     "metadata": {},
     "output_type": "execute_result"
    }
   ],
   "source": [
    "type(preprocessor)"
   ]
  },
  {
   "cell_type": "code",
   "execution_count": 7,
   "metadata": {},
   "outputs": [
    {
     "name": "stdout",
     "output_type": "stream",
     "text": [
      "<class 'orderbookrl.preprocessing.phi.MarketVariables'>\n",
      "True\n"
     ]
    }
   ],
   "source": [
    "from orderbookrl.evaluate.collect_data import load_env, load_agent\n",
    "\n",
    "env = load_env(env_id, env_config, model_config)"
   ]
  },
  {
   "cell_type": "code",
   "execution_count": 8,
   "metadata": {},
   "outputs": [
    {
     "data": {
      "text/plain": [
       "<_RLlibPreprocessorWrapper<MarketOrderEnv instance>>"
      ]
     },
     "execution_count": 8,
     "metadata": {},
     "output_type": "execute_result"
    }
   ],
   "source": [
    "env"
   ]
  },
  {
   "cell_type": "code",
   "execution_count": 9,
   "metadata": {},
   "outputs": [
    {
     "data": {
      "text/plain": [
       "'../../logs/marketorderenv/ppo-long-run/PPO_MarketOrderEnv-v0_3_2019-05-22_13-13-5893t1828n/'"
      ]
     },
     "execution_count": 9,
     "metadata": {},
     "output_type": "execute_result"
    }
   ],
   "source": [
    "path"
   ]
  },
  {
   "cell_type": "code",
   "execution_count": 10,
   "metadata": {},
   "outputs": [
    {
     "name": "stderr",
     "output_type": "stream",
     "text": [
      "Process STDOUT and STDERR is being redirected to /tmp/ray/session_2019-05-30_13-59-16_12222/logs.\n",
      "Waiting for redis server at 127.0.0.1:10800 to respond...\n",
      "Waiting for redis server at 127.0.0.1:16069 to respond...\n",
      "Starting the Plasma object store with 13.460106444000001 GB memory using /dev/shm.\n",
      "\n",
      "======================================================================\n",
      "View the web UI at http://localhost:8889/notebooks/ray_ui.ipynb?token=a01eac39b8c3dc8dbbebb7c16b781f9cf50671a637ad5a61\n",
      "======================================================================\n",
      "\n"
     ]
    },
    {
     "data": {
      "text/plain": [
       "{'node_ip_address': '192.168.1.106',\n",
       " 'redis_address': '192.168.1.106:10800',\n",
       " 'object_store_addresses': ['/tmp/ray/session_2019-05-30_13-59-16_12222/sockets/plasma_store'],\n",
       " 'raylet_socket_names': ['/tmp/ray/session_2019-05-30_13-59-16_12222/sockets/raylet'],\n",
       " 'webui_url': 'http://localhost:8889/notebooks/ray_ui.ipynb?token=a01eac39b8c3dc8dbbebb7c16b781f9cf50671a637ad5a61'}"
      ]
     },
     "execution_count": 10,
     "metadata": {},
     "output_type": "execute_result"
    }
   ],
   "source": [
    "ray.init()"
   ]
  },
  {
   "cell_type": "code",
   "execution_count": 11,
   "metadata": {},
   "outputs": [
    {
     "name": "stderr",
     "output_type": "stream",
     "text": [
      "Created LogSyncer for /home/valldabo/ray_results/PPO_MarketOrderEnv-v0_2019-05-30_13-59-16xoaonq7g -> None\n",
      "2019-05-30 13:59:16,945\tWARNING ppo.py:118 -- By default, observations will be normalized with MeanStdFilter\n",
      "2019-05-30 13:59:16,948\tINFO catalog.py:291 -- Using custom preprocessor mv\n"
     ]
    },
    {
     "name": "stdout",
     "output_type": "stream",
     "text": [
      "{'batch_mode': 'truncate_episodes', 'callbacks': {'on_episode_end': '<ray.tune.suggest.variant_generator.function object at 0x7fef3cec5f60>'}, 'clip_param': 0.3, 'clip_rewards': True, 'entropy_coeff': 0.01, 'env': 'MarketOrderEnv-v0', 'env_config': {'max_episode_time': '2hours', 'max_sequence_skip': 1500, 'random_start': True}, 'gamma': 0.9, 'kl_coeff': 0.2, 'kl_target': 0.01, 'lambda': 0.8, 'lr': 0.005, 'model': {'custom_options': {'fast_macd_l': 120, 'mid_l': 100, 'ofi_l': 100, 'slow_macd_l': 240}, 'custom_preprocessor': 'mv', 'fcnet_hiddens': [32, 32], 'free_log_std': False, 'squash_to_range': True}, 'num_cpus_per_worker': 2, 'num_gpus': 0, 'num_gpus_per_worker': 0, 'num_sgd_iter': 30, 'num_workers': 1, 'observation_filter': 'MeanStdFilter', 'sample_batch_size': 1, 'sgd_minibatch_size': 1024, 'simple_optimizer': True, 'train_batch_size': 5000, 'use_gae': True, 'vf_loss_coeff': 1.0, 'vf_share_layers': True}\n",
      "<class 'orderbookmdp.rl.market_order_envs.MarketOrderEnv'>\n",
      "<class 'orderbookrl.preprocessing.phi.MarketVariables'>\n"
     ]
    },
    {
     "name": "stderr",
     "output_type": "stream",
     "text": [
      "/home/valldabo/miniconda3/envs/orderbookrl/lib/python3.6/site-packages/tensorflow/python/ops/gradients_impl.py:112: UserWarning:\n",
      "\n",
      "Converting sparse IndexedSlices to a dense Tensor of unknown shape. This may consume a large amount of memory.\n",
      "\n"
     ]
    }
   ],
   "source": [
    "from orderbookrl.utils import get_env\n",
    "\n",
    "checkpoint_path = path + 'checkpoint_{}/checkpoint-{}'.format(checkpoint, checkpoint)\n",
    "\n",
    "config['num_workers'] = 1\n",
    "cls = get_agent_class(agent_id)\n",
    "if config.get('num_workers'):\n",
    "    config['num_workers'] = 1\n",
    "try:\n",
    "    config.pop('grad_clip')\n",
    "except:\n",
    "    pass\n",
    "\n",
    "config['sample_batch_size'] = 1\n",
    "\n",
    "print(config)\n",
    "\n",
    "agent = cls(env=env_id, config=config, logger_creator=None)"
   ]
  },
  {
   "cell_type": "code",
   "execution_count": null,
   "metadata": {},
   "outputs": [],
   "source": []
  }
 ],
 "metadata": {
  "kernelspec": {
   "display_name": "orderbookrl",
   "language": "python",
   "name": "orderbookrl"
  },
  "language_info": {
   "codemirror_mode": {
    "name": "ipython",
    "version": 3
   },
   "file_extension": ".py",
   "mimetype": "text/x-python",
   "name": "python",
   "nbconvert_exporter": "python",
   "pygments_lexer": "ipython3",
   "version": "3.6.7"
  }
 },
 "nbformat": 4,
 "nbformat_minor": 2
}
